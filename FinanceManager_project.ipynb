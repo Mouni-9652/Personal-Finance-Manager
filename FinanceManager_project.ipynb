{
 "cells": [
  {
   "cell_type": "code",
   "execution_count": 5,
   "id": "9bf210e3",
   "metadata": {},
   "outputs": [
    {
     "name": "stdout",
     "output_type": "stream",
     "text": [
      "Total Expenses: 180.0\n",
      "Total Incomes: 200.0\n",
      "Spending Summary: {'Food': 80.0, 'Transportation': 100.0}\n"
     ]
    }
   ],
   "source": [
    "class Transaction:\n",
    "    def __init__(self, date, amount, category, description):\n",
    "        self.date = date\n",
    "        self.amount = amount\n",
    "        self.category = category\n",
    "        self.description = description\n",
    "\n",
    "class Expense(Transaction):\n",
    "    pass\n",
    "\n",
    "class Income(Transaction):\n",
    "    pass\n",
    "\n",
    "class FinancialManager:\n",
    "    def __init__(self):\n",
    "        self.transactions = []\n",
    "\n",
    "    def add_transaction(self, transaction):\n",
    "        self.transactions.append(transaction)\n",
    "\n",
    "    def get_expenses(self):\n",
    "        expenses = [t for t in self.transactions if isinstance(t, Expense)]\n",
    "        return expenses\n",
    "\n",
    "    def get_incomes(self):\n",
    "        incomes = [t for t in self.transactions if isinstance(t, Income)]\n",
    "        return incomes\n",
    "\n",
    "    def calculate_total_expenses(self):\n",
    "        total_expenses = sum(expense.amount for expense in self.get_expenses())\n",
    "        return total_expenses\n",
    "\n",
    "    def calculate_total_incomes(self):\n",
    "        total_incomes = sum(income.amount for income in self.get_incomes())\n",
    "        return total_incomes\n",
    "\n",
    "    def generate_spending_summary(self):\n",
    "        expenses_by_category = {}\n",
    "        for expense in self.get_expenses():\n",
    "            category = expense.category\n",
    "            if category not in expenses_by_category:\n",
    "                expenses_by_category[category] = 0\n",
    "            expenses_by_category[category] += expense.amount\n",
    "        return expenses_by_category\n",
    "\n",
    "\n",
    "manager = FinancialManager()\n",
    "\n",
    "expense1 = Expense(\"2023-04-01\", 80.0, \"Food\", \"Groceries\")\n",
    "expense2 = Expense(\"2023-04-19\", 100.0, \"Transportation\", \"Bus fare\")\n",
    "income1 = Income(\"2023-04-26\", 200.0, \"Salary\", \"Monthly income\")\n",
    "\n",
    "manager.add_transaction(expense1)\n",
    "manager.add_transaction(expense2)\n",
    "manager.add_transaction(income1)\n",
    "\n",
    "total_expenses = manager.calculate_total_expenses()\n",
    "total_incomes = manager.calculate_total_incomes()\n",
    "spending_summary = manager.generate_spending_summary()\n",
    "\n",
    "print(\"Total Expenses:\", total_expenses)\n",
    "print(\"Total Incomes:\", total_incomes)\n",
    "print(\"Spending Summary:\", spending_summary)\n"
   ]
  },
  {
   "cell_type": "code",
   "execution_count": 6,
   "id": "29a9159f",
   "metadata": {},
   "outputs": [
    {
     "name": "stdout",
     "output_type": "stream",
     "text": [
      "Total Expenses: 370.0\n",
      "Total Incomes: 500.0\n",
      "Spending Summary: {'Food': 170.0, 'Transportation': 200.0}\n"
     ]
    }
   ],
   "source": [
    "expense3 = Expense(\"2023-05-01\", 90.0, \"Food\", \"Groceries\")\n",
    "expense4 = Expense(\"2023-05-06\", 100.0, \"Transportation\", \"Bus fare\")\n",
    "income2 = Income(\"2023-05-19\", 300.0, \"Salary\", \"Monthly income\")\n",
    "\n",
    "\n",
    "manager.add_transaction(expense3)\n",
    "manager.add_transaction(expense4)\n",
    "manager.add_transaction(income2)\n",
    "\n",
    "total_expenses = manager.calculate_total_expenses()\n",
    "total_incomes = manager.calculate_total_incomes()\n",
    "spending_summary = manager.generate_spending_summary()\n",
    "\n",
    "print(\"Total Expenses:\", total_expenses)\n",
    "print(\"Total Incomes:\", total_incomes)\n",
    "print(\"Spending Summary:\", spending_summary)\n"
   ]
  },
  {
   "cell_type": "code",
   "execution_count": null,
   "id": "4c87969d",
   "metadata": {},
   "outputs": [],
   "source": []
  }
 ],
 "metadata": {
  "kernelspec": {
   "display_name": "Python 3 (ipykernel)",
   "language": "python",
   "name": "python3"
  },
  "language_info": {
   "codemirror_mode": {
    "name": "ipython",
    "version": 3
   },
   "file_extension": ".py",
   "mimetype": "text/x-python",
   "name": "python",
   "nbconvert_exporter": "python",
   "pygments_lexer": "ipython3",
   "version": "3.9.12"
  }
 },
 "nbformat": 4,
 "nbformat_minor": 5
}
